{
 "cells": [
  {
   "cell_type": "markdown",
   "metadata": {},
   "source": [
    "# Collaboration and Competition\n",
    "\n",
    "---\n",
    "\n",
    "In this notebook, you will learn how to use the Unity ML-Agents environment for the third project of the [Deep Reinforcement Learning Nanodegree](https://www.udacity.com/course/deep-reinforcement-learning-nanodegree--nd893) program.\n",
    "\n",
    "### 1. Start the Environment\n",
    "\n",
    "We begin by importing the necessary packages.  If the code cell below returns an error, please revisit the project instructions to double-check that you have installed [Unity ML-Agents](https://github.com/Unity-Technologies/ml-agents/blob/master/docs/Installation.md) and [NumPy](http://www.numpy.org/)."
   ]
  },
  {
   "cell_type": "code",
   "execution_count": 1,
   "metadata": {
    "collapsed": true
   },
   "outputs": [],
   "source": [
    "from unityagents import UnityEnvironment\n",
    "import numpy as np"
   ]
  },
  {
   "cell_type": "markdown",
   "metadata": {},
   "source": [
    "Next, we will start the environment!  **_Before running the code cell below_**, change the `file_name` parameter to match the location of the Unity environment that you downloaded.\n",
    "\n",
    "- **Mac**: `\"path/to/Tennis.app\"`\n",
    "- **Windows** (x86): `\"path/to/Tennis_Windows_x86/Tennis.exe\"`\n",
    "- **Windows** (x86_64): `\"path/to/Tennis_Windows_x86_64/Tennis.exe\"`\n",
    "- **Linux** (x86): `\"path/to/Tennis_Linux/Tennis.x86\"`\n",
    "- **Linux** (x86_64): `\"path/to/Tennis_Linux/Tennis.x86_64\"`\n",
    "- **Linux** (x86, headless): `\"path/to/Tennis_Linux_NoVis/Tennis.x86\"`\n",
    "- **Linux** (x86_64, headless): `\"path/to/Tennis_Linux_NoVis/Tennis.x86_64\"`\n",
    "\n",
    "For instance, if you are using a Mac, then you downloaded `Tennis.app`.  If this file is in the same folder as the notebook, then the line below should appear as follows:\n",
    "```\n",
    "env = UnityEnvironment(file_name=\"Tennis.app\")\n",
    "```"
   ]
  },
  {
   "cell_type": "code",
   "execution_count": 2,
   "metadata": {},
   "outputs": [
    {
     "name": "stdout",
     "output_type": "stream",
     "text": [
      "Mono path[0] = '/Users/james/Documents/udacity/tennis-multi-agent/p3_collab-compet/Tennis.app/Contents/Resources/Data/Managed'\n",
      "Mono config path = '/Users/james/Documents/udacity/tennis-multi-agent/p3_collab-compet/Tennis.app/Contents/MonoBleedingEdge/etc'\n"
     ]
    },
    {
     "name": "stderr",
     "output_type": "stream",
     "text": [
      "INFO:unityagents:\n",
      "'Academy' started successfully!\n",
      "Unity Academy name: Academy\n",
      "        Number of Brains: 1\n",
      "        Number of External Brains : 1\n",
      "        Lesson number : 0\n",
      "        Reset Parameters :\n",
      "\t\t\n",
      "Unity brain name: TennisBrain\n",
      "        Number of Visual Observations (per agent): 0\n",
      "        Vector Observation space type: continuous\n",
      "        Vector Observation space size (per agent): 8\n",
      "        Number of stacked Vector Observation: 3\n",
      "        Vector Action space type: continuous\n",
      "        Vector Action space size (per agent): 2\n",
      "        Vector Action descriptions: , \n"
     ]
    }
   ],
   "source": [
    "env = UnityEnvironment(file_name=\"./Tennis.app\")"
   ]
  },
  {
   "cell_type": "markdown",
   "metadata": {},
   "source": [
    "Environments contain **_brains_** which are responsible for deciding the actions of their associated agents. Here we check for the first brain available, and set it as the default brain we will be controlling from Python."
   ]
  },
  {
   "cell_type": "code",
   "execution_count": 3,
   "metadata": {
    "collapsed": true
   },
   "outputs": [],
   "source": [
    "# get the default brain\n",
    "brain_name = env.brain_names[0]\n",
    "brain = env.brains[brain_name]"
   ]
  },
  {
   "cell_type": "markdown",
   "metadata": {},
   "source": [
    "### 2. Examine the State and Action Spaces\n",
    "\n",
    "In this environment, two agents control rackets to bounce a ball over a net. If an agent hits the ball over the net, it receives a reward of +0.1.  If an agent lets a ball hit the ground or hits the ball out of bounds, it receives a reward of -0.01.  Thus, the goal of each agent is to keep the ball in play.\n",
    "\n",
    "The observation space consists of 8 variables corresponding to the position and velocity of the ball and racket. Two continuous actions are available, corresponding to movement toward (or away from) the net, and jumping. \n",
    "\n",
    "Run the code cell below to print some information about the environment."
   ]
  },
  {
   "cell_type": "code",
   "execution_count": 4,
   "metadata": {},
   "outputs": [
    {
     "name": "stdout",
     "output_type": "stream",
     "text": [
      "Number of agents: 2\n",
      "Size of each action: 2\n",
      "There are 2 agents. Each observes a state with length: 24\n",
      "The state for the first agent looks like: [ 0.          0.          0.          0.          0.          0.\n",
      "  0.          0.          0.          0.          0.          0.\n",
      "  0.          0.          0.          0.         -6.65278625 -1.5\n",
      " -0.          0.          6.83172083  6.         -0.          0.        ]\n"
     ]
    }
   ],
   "source": [
    "# reset the environment\n",
    "env_info = env.reset(train_mode=True)[brain_name]\n",
    "\n",
    "# number of agents \n",
    "num_agents = len(env_info.agents)\n",
    "print('Number of agents:', num_agents)\n",
    "\n",
    "# size of each action\n",
    "action_size = brain.vector_action_space_size\n",
    "print('Size of each action:', action_size)\n",
    "\n",
    "# examine the state space \n",
    "states = env_info.vector_observations\n",
    "state_size = states.shape[1]\n",
    "print('There are {} agents. Each observes a state with length: {}'.format(states.shape[0], state_size))\n",
    "print('The state for the first agent looks like:', states[0])"
   ]
  },
  {
   "cell_type": "markdown",
   "metadata": {},
   "source": [
    "### 3. Take Random Actions in the Environment\n",
    "\n",
    "In the next code cell, you will learn how to use the Python API to control the agents and receive feedback from the environment.\n",
    "\n",
    "Once this cell is executed, you will watch the agents' performance, if they select actions at random with each time step.  A window should pop up that allows you to observe the agents.\n",
    "\n",
    "Of course, as part of the project, you'll have to change the code so that the agents are able to use their experiences to gradually choose better actions when interacting with the environment!"
   ]
  },
  {
   "cell_type": "code",
   "execution_count": 5,
   "metadata": {},
   "outputs": [
    {
     "name": "stdout",
     "output_type": "stream",
     "text": [
      "Score (max over agents) from episode 1: 0.0\n",
      "Score (max over agents) from episode 2: 0.0\n",
      "Score (max over agents) from episode 3: 0.0\n",
      "Score (max over agents) from episode 4: 0.0\n",
      "Score (max over agents) from episode 5: 0.0\n"
     ]
    }
   ],
   "source": [
    "for i in range(1, 6):                                      # play game for 5 episodes\n",
    "    env_info = env.reset(train_mode=False)[brain_name]     # reset the environment    \n",
    "    states = env_info.vector_observations                  # get the current state (for each agent)\n",
    "    scores = np.zeros(num_agents)                          # initialize the score (for each agent)\n",
    "    while True:\n",
    "        actions = np.random.randn(num_agents, action_size) # select an action (for each agent)\n",
    "        actions = np.clip(actions, -1, 1)                  # all actions between -1 and 1\n",
    "        env_info = env.step(actions)[brain_name]           # send all actions to tne environment\n",
    "        next_states = env_info.vector_observations         # get next state (for each agent)\n",
    "        rewards = env_info.rewards                         # get reward (for each agent)\n",
    "        dones = env_info.local_done                        # see if episode finished\n",
    "        scores += env_info.rewards                         # update the score (for each agent)\n",
    "        states = next_states                               # roll over states to next time step\n",
    "        if np.any(dones):                                  # exit loop if episode finished\n",
    "            break\n",
    "    print('Score (max over agents) from episode {}: {}'.format(i, np.max(scores)))"
   ]
  },
  {
   "cell_type": "markdown",
   "metadata": {},
   "source": [
    "When finished, you can close the environment."
   ]
  },
  {
   "cell_type": "code",
   "execution_count": 6,
   "metadata": {
    "collapsed": true
   },
   "outputs": [],
   "source": [
    "env.close()"
   ]
  },
  {
   "cell_type": "markdown",
   "metadata": {},
   "source": [
    "### 4. It's Your Turn!\n",
    "\n",
    "Now it's your turn to train your own agent to solve the environment!  When training the environment, set `train_mode=True`, so that the line for resetting the environment looks like the following:\n",
    "```python\n",
    "env_info = env.reset(train_mode=True)[brain_name]\n",
    "```"
   ]
  },
  {
   "cell_type": "code",
   "execution_count": 1,
   "metadata": {},
   "outputs": [
    {
     "name": "stdout",
     "output_type": "stream",
     "text": [
      "Mono path[0] = '/Users/james/Documents/udacity/tennis-multi-agent/p3_collab-compet/Tennis.app/Contents/Resources/Data/Managed'\n",
      "Mono config path = '/Users/james/Documents/udacity/tennis-multi-agent/p3_collab-compet/Tennis.app/Contents/MonoBleedingEdge/etc'\n"
     ]
    },
    {
     "name": "stderr",
     "output_type": "stream",
     "text": [
      "INFO:unityagents:\n",
      "'Academy' started successfully!\n",
      "Unity Academy name: Academy\n",
      "        Number of Brains: 1\n",
      "        Number of External Brains : 1\n",
      "        Lesson number : 0\n",
      "        Reset Parameters :\n",
      "\t\t\n",
      "Unity brain name: TennisBrain\n",
      "        Number of Visual Observations (per agent): 0\n",
      "        Vector Observation space type: continuous\n",
      "        Vector Observation space size (per agent): 8\n",
      "        Number of stacked Vector Observation: 3\n",
      "        Vector Action space type: continuous\n",
      "        Vector Action space size (per agent): 2\n",
      "        Vector Action descriptions: , \n"
     ]
    }
   ],
   "source": [
    "# There is no need to start at the top of this notebook.  If you want to skip \n",
    "# right to training, run this cell for imports/environment definition and \n",
    "# continue on.  If the environment has already been defined above, then no \n",
    "# need to do it again here.\n",
    "#\n",
    "# ALERT: If you run the environment and then close it, you can not re-run \n",
    "#        the training loop without restarting the kernel or you may get \n",
    "#        a broken pipe to the Unity environment.  This occurs on Mac environments\n",
    "#        and is untested on other OS's\n",
    "#\n",
    "try:\n",
    "    # see if environment is defined from running the code above.\n",
    "    # if it is, do not redefine env.\n",
    "    env\n",
    "except:\n",
    "    from unityagents import UnityEnvironment\n",
    "    import numpy as np\n",
    "    import time\n",
    "    import torch\n",
    "    from collections import deque\n",
    "    import matplotlib.pyplot as plt\n",
    "\n",
    "    env = UnityEnvironment(file_name=\"./Tennis.app\")    \n"
   ]
  },
  {
   "cell_type": "code",
   "execution_count": 2,
   "metadata": {
    "collapsed": true
   },
   "outputs": [],
   "source": [
    "# get the default brain\n",
    "brain_name = env.brain_names[0]\n",
    "brain = env.brains[brain_name]"
   ]
  },
  {
   "cell_type": "code",
   "execution_count": 3,
   "metadata": {},
   "outputs": [
    {
     "name": "stdout",
     "output_type": "stream",
     "text": [
      "Number of agents: 2\n",
      "Number of actions: 2\n",
      "States look like: [ 0.          0.          0.          0.          0.          0.\n",
      "  0.          0.          0.          0.          0.          0.\n",
      "  0.          0.          0.          0.         -6.65278625 -1.5\n",
      " -0.          0.          6.83172083  6.         -0.          0.        ]\n",
      "States have length: 24\n"
     ]
    }
   ],
   "source": [
    "# reset the environment\n",
    "env_info = env.reset(train_mode=True)[brain_name]\n",
    "\n",
    "# number of agents in the environment\n",
    "num_agents = len(env_info.agents)\n",
    "print('Number of agents:', len(env_info.agents))\n",
    "\n",
    "# number of actions\n",
    "action_size = brain.vector_action_space_size\n",
    "print('Number of actions:', action_size)\n",
    "\n",
    "# examine the state space \n",
    "state = env_info.vector_observations[0]\n",
    "print('States look like:', state)\n",
    "state_size = len(state)\n",
    "print('States have length:', state_size)"
   ]
  },
  {
   "cell_type": "code",
   "execution_count": 4,
   "metadata": {
    "collapsed": true
   },
   "outputs": [],
   "source": [
    "from ddpg_agent import Agent\n",
    "agent0 = Agent(\n",
    "    state_size=state_size, \n",
    "    action_size=action_size, \n",
    "    random_seed=0, \n",
    "    a_fc1_units=400, a_fc2_units=300,\n",
    "    c_fc1_units=400, c_fc2_units=300,\n",
    ")\n",
    "agent1 = Agent(\n",
    "    state_size=state_size, \n",
    "    action_size=action_size, \n",
    "    random_seed=0, \n",
    "    a_fc1_units=400, a_fc2_units=300,\n",
    "    c_fc1_units=400, c_fc2_units=300,\n",
    ")\n",
    "# agents = [agent0, agent1]\n",
    "agents = [agent0, agent0]"
   ]
  },
  {
   "cell_type": "code",
   "execution_count": null,
   "metadata": {
    "collapsed": true
   },
   "outputs": [],
   "source": []
  },
  {
   "cell_type": "code",
   "execution_count": null,
   "metadata": {},
   "outputs": [
    {
     "name": "stdout",
     "output_type": "stream",
     "text": [
      "Episode 500\tAverage Score: 0.0682\t Memory Size: 20242\tElapsed Time: 150.1885 sec\n",
      "Episode 1000\tAverage Score: 0.0159\t Memory Size: 37074\tElapsed Time: 277.6089 sec\n",
      "Episode 1500\tAverage Score: 0.0828\t Memory Size: 72854\tElapsed Time: 549.4054 sec\n",
      "Episode 2000\tAverage Score: 0.1120\t Memory Size: 123066\tElapsed Time: 935.6939 sec\n",
      "Episode 2500\tAverage Score: 0.4073\t Memory Size: 228334\tElapsed Time: 1795.4472 sec\n",
      "Episode 3000\tAverage Score: 0.1251\t Memory Size: 289536\tElapsed Time: 2325.0231 sec\n",
      "Episode 3500\tAverage Score: 1.8176\t Memory Size: 633440\tElapsed Time: 5889.3029 sec\n",
      "Episode 3501\tAverage Score: 1.8186\t Memory Size: 635440\tElapsed Time: 5911.3036 sec"
     ]
    }
   ],
   "source": [
    "def ddpg(n_episodes=5000, max_t=1000):\n",
    "    tic = time.time()\n",
    "    \"\"\"\n",
    "    Params\n",
    "    ======\n",
    "        n_episodes (int): maximum number of training episodes\n",
    "        max_t (int): maximum number of timesteps per episode\n",
    "    \"\"\"\n",
    "#     # average points over 100 episodes that we want to solve for and save \n",
    "#     # checkpoints for.\n",
    "#     solved_13 = False\n",
    "#     solved_15 = False\n",
    "#     solved_16 = False\n",
    "    \n",
    "    scores = []                        # list containing scores from each episode\n",
    "    scores_window = deque(maxlen=100)  # last 100 scores\n",
    "#     eps = eps_start                    # initialize epsilon\n",
    "    for i_episode in range(1, n_episodes+1):\n",
    "        # state = env.reset()                             # gym\n",
    "        # state, _ = env.reset()                          # gymnasium\n",
    "        #-------------------------------------------------# Unity\n",
    "        env_info = env.reset(train_mode=True)[brain_name] # Unity\n",
    "\n",
    "        states = env_info.vector_observations           # Unity\n",
    "        \n",
    "        _scores = np.zeros(num_agents)\n",
    "        scores = list(_scores)\n",
    "\n",
    "        for t in range(max_t):\n",
    "#             action = agent.act(state, eps)\n",
    "\n",
    "            actions = []\n",
    "            for idx, agent in enumerate(agents):\n",
    "                state = states[idx]\n",
    "                action = agent.act(state, noise_factor=0.001)\n",
    "                actions.append(action)\n",
    "\n",
    "            #--------------------------------------------------# Unity\n",
    "            env_info = env.step(actions)[brain_name]            # send the action to the environment\n",
    "            next_states = env_info.vector_observations       # get the next state\n",
    "            rewards = env_info.rewards                       # get the reward\n",
    "            dones = env_info.local_done                      # see if episode has finished\n",
    "\n",
    "            for idx, agent in enumerate(agents):\n",
    "                agent.step(states[idx], actions[idx], rewards[idx], next_states[idx], dones[idx])\n",
    "\n",
    "            # # give an additional penalty to shape the training in a semi-supervised fashion based\n",
    "            # # upon knowledge of the environment\n",
    "            # penalty = 0.\n",
    "            # reward = reward + penalty\n",
    "            # state = next_state\n",
    "            # score += reward\n",
    "            # if done:\n",
    "            #     break \n",
    "\n",
    "            states = next_states\n",
    "            _scores = np.array(_scores) + np.array(rewards)\n",
    "\n",
    "            # if any one agent is done in the environment, we are done.\n",
    "            if sum(dones) > 0:\n",
    "                break \n",
    "\n",
    "            \n",
    "        scores_window.append(np.max(_scores))       # save most recent score\n",
    "        scores.append(np.max(_scores))              # save most recent score\n",
    "#         eps = max(eps_end, eps_decay*eps) # decrease epsilon\n",
    "        print('\\rEpisode {}\\tAverage Score: {:.4f}\\t Memory Size: {}\\tElapsed Time: {:0.4f} sec'.format(i_episode, np.mean(scores_window), len(agent.memory.memory), time.time() - tic), end=\"\")\n",
    "        if i_episode % 500 == 0:\n",
    "            print('\\rEpisode {}\\tAverage Score: {:.4f}\\t Memory Size: {}\\tElapsed Time: {:0.4f} sec'.format(i_episode, np.mean(scores_window), len(agent.memory.memory), time.time() - tic))\n",
    "            torch.save(agent.actor_local.state_dict(), f'checkpoint_actor_{i_episode}.pth')\n",
    "            torch.save(agent.critic_local.state_dict(), f'checkpoint_critic_{i_episode}.pth')\n",
    "    torch.save(agent.actor_local.state_dict(), './checkpoints/checkpoint_actor.pth')\n",
    "    torch.save(agent.critic_local.state_dict(), './checkpoints/checkpoint_critic.pth')\n",
    "    return scores\n",
    "\n",
    "scores = ddpg()\n",
    "env.close()\n",
    "\n",
    "# plot the scores\n",
    "fig = plt.figure()\n",
    "ax = fig.add_subplot(111)\n",
    "plt.plot(np.arange(len(scores)), scores)\n",
    "plt.ylabel('Score')\n",
    "plt.xlabel('Episode #')\n",
    "plt.show()"
   ]
  },
  {
   "cell_type": "code",
   "execution_count": null,
   "metadata": {
    "collapsed": true
   },
   "outputs": [],
   "source": [
    "scoress.extend(scores)"
   ]
  },
  {
   "cell_type": "code",
   "execution_count": null,
   "metadata": {
    "collapsed": true
   },
   "outputs": [],
   "source": [
    "torch.save(agent.actor_local.state_dict(), 'checkpoint_actor.pth')\n",
    "torch.save(agent.critic_local.state_dict(), 'checkpoint_critic.pth')\n"
   ]
  },
  {
   "cell_type": "code",
   "execution_count": null,
   "metadata": {
    "collapsed": true
   },
   "outputs": [],
   "source": [
    "#\n",
    "#\n",
    "# View The trained agent\n",
    "#\n",
    "#\n"
   ]
  },
  {
   "cell_type": "code",
   "execution_count": 5,
   "metadata": {},
   "outputs": [
    {
     "data": {
      "text/plain": [
       "<All keys matched successfully>"
      ]
     },
     "execution_count": 5,
     "metadata": {},
     "output_type": "execute_result"
    }
   ],
   "source": [
    "# from ddpg_agent import Agent\n",
    "# import torch\n",
    "# agent = Agent(\n",
    "#     state_size=state_size, \n",
    "#     action_size=action_size, \n",
    "#     random_seed=0, \n",
    "#     a_fc1_units=400, a_fc2_units=300,\n",
    "#     c_fc1_units=400, c_fc2_units=300,\n",
    "# #     a_fc1_units=20, a_fc2_units=20,\n",
    "# #     c_fc1_units=50, c_fc2_units=50\n",
    "# )\n",
    "# load checkpoint if desired.\n",
    "# agent.actor_local.load_state_dict(torch.load('checkpoint_actor.pth'))\n",
    "# agent.critic_local.load_state_dict(torch.load('checkpoint_critic.pth'))\n",
    "agent0.actor_local.load_state_dict(torch.load('checkpoint_actor_3500.pth'))\n",
    "agent0.critic_local.load_state_dict(torch.load('checkpoint_critic_3500.pth'))\n",
    "\n"
   ]
  },
  {
   "cell_type": "code",
   "execution_count": null,
   "metadata": {},
   "outputs": [],
   "source": [
    "env_info = env.reset(train_mode=False)[brain_name] # Unity\n",
    "state = env_info.vector_observations[0]           # Unity\n",
    "score = 0\n",
    "max_t = 1000\n",
    "for t in range(max_t):\n",
    "\n",
    "    states = env_info.vector_observations           # Unity\n",
    "    _scores = np.zeros(num_agents)\n",
    "    scores = list(_scores)\n",
    "    actions = []\n",
    "    for idx, agent in enumerate(agents):\n",
    "        state = states[idx]\n",
    "        action = agent.act(state, noise_factor=0.)\n",
    "        actions.append(action)\n",
    "\n",
    "    #--------------------------------------------------# Unity\n",
    "    env_info = env.step(actions)[brain_name]            # send the action to the environment\n",
    "    next_states = env_info.vector_observations       # get the next state\n",
    "    rewards = env_info.rewards                       # get the reward\n",
    "    dones = env_info.local_done                      # see if episode has finished\n",
    "\n",
    "    for idx, agent in enumerate(agents):\n",
    "        agent.step(states[idx], actions[idx], rewards[idx], next_states[idx], dones[idx])\n",
    "\n",
    "    states = next_states\n",
    "    _scores = np.array(_scores) + np.array(rewards)\n",
    "\n",
    "#     # if any one agent is done in the environment, we are done.\n",
    "#     if sum(dones) > 0:\n",
    "#         break \n",
    "\n",
    "        "
   ]
  },
  {
   "cell_type": "code",
   "execution_count": 8,
   "metadata": {},
   "outputs": [],
   "source": [
    "env.close()"
   ]
  },
  {
   "cell_type": "code",
   "execution_count": null,
   "metadata": {
    "collapsed": true
   },
   "outputs": [],
   "source": []
  }
 ],
 "metadata": {
  "kernelspec": {
   "display_name": "banana",
   "language": "python",
   "name": "banana"
  },
  "language_info": {
   "codemirror_mode": {
    "name": "ipython",
    "version": 3
   },
   "file_extension": ".py",
   "mimetype": "text/x-python",
   "name": "python",
   "nbconvert_exporter": "python",
   "pygments_lexer": "ipython3",
   "version": "3.8.17"
  }
 },
 "nbformat": 4,
 "nbformat_minor": 2
}
